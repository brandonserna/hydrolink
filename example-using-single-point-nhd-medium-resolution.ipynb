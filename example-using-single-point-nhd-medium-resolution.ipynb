{
 "cells": [
  {
   "cell_type": "markdown",
   "metadata": {},
   "source": [
    "This example shows how to use hydrolinking methods to address a point to the NHDPlusV2.1 Medium Resolution.\n",
    "\n",
    "For this example we use a point near the Red Cedar River in East Lansing, MI."
   ]
  },
  {
   "cell_type": "markdown",
   "metadata": {},
   "source": [
    "##### First set required parameters.\n",
    "The input parameters are the same for NHDPlusV2.1 and NHD High Resolution hydrolinking methods.\n",
    "\n",
    "Required parameters include:\n",
    "    *input_identifier: str, user supplied identifier\n",
    "    *input_lat: float, latitude of the point to be hydrolinked\n",
    "    *input_lon: float, longitude of the point to be hydrolinked\n",
    "    \n",
    "Other optional parameters include:\n",
    "    *input_crs: int, coordinate reference system, default is 4269 (NAD83)\n",
    "    *stream_name: name of the stream a point is intended to be linked\n",
    "    *buffer_m = search distance in meters, default is 1000, max is 2000"
   ]
  },
  {
   "cell_type": "code",
   "execution_count": 1,
   "metadata": {},
   "outputs": [],
   "source": [
    "#identifier -> number or string\n",
    "input_identifier = 1\n",
    "#latitude\n",
    "input_lat = 42.7284\n",
    "#longitude\n",
    "input_lon = -84.5026\n",
    "#coordinate system\n",
    "input_crs = 4269  \n",
    "#stream name\n",
    "stream_name = 'The Red Cedar River'\n",
    "#buffer\n",
    "buffer_m = 2000"
   ]
  },
  {
   "cell_type": "markdown",
   "metadata": {},
   "source": [
    "The next cell runs three steps. First the hydrolink module for nhdplusV2.1 is imported.  Next a Python object is initiated and finally the code attempts to set the coordinate system to NAD83 (crs = 4269).\n",
    "\n",
    "Note: It is recommended to use crs 4269, although this code attempts to accomidate other common coordinate systems by using some simple logic.  This has not been tested a lot and may cause the code to bypass hydrolinking if conversion fails. If this happens a message will be generated for the user."
   ]
  },
  {
   "cell_type": "code",
   "execution_count": 3,
   "metadata": {},
   "outputs": [],
   "source": [
    "#Import module from local folder hydrolink\n",
    "from hydrolink import nhd_mr\n",
    "import warnings; warnings.simplefilter('ignore')\n",
    "\n",
    "#initiate a Python object\n",
    "hydrolink = nhd_mr.MedResPoint(input_identifier, input_lat, input_lon, water_name=stream_name, input_crs=input_crs, buffer_m=buffer_m)\n",
    "\n",
    "#We then try setting the coordinate system to NAD83\n",
    "hydrolink.crs_to_4269()"
   ]
  },
  {
   "cell_type": "raw",
   "metadata": {},
   "source": [
    "The next cell runs three steps:\n",
    "\n",
    "* First it builds a query to return reachcodes within buffer of point location. Medium resolution uses EPA rest services to return reaches of interest: https://inlandwaters.geoplatform.gov/arcgis/rest/services/NHDPlus/NHDPlus/MapServer  \n",
    "Within this service in-network flowlines (network_flow) or off-network flowlines (nonnetwork flow) can be specified with the variable service.  \n",
    "\n",
    "* Next we execute the query.  User has the option to set the parameter n to specify max number of reachcodes to return.  During this step we measure distances from the user defined point to each reach and from the user defined point to the nearest node representing a confluence.  \n",
    "\n",
    "* Next we calculate a score of how well the stream name matches (user supplied vs. each reach GNIS_NAME). Results are output in name_check variables.  name_check is a value between 0 and 1 where 0 represents no match and 1 represents and exact match. A fuzzy match algorithm is used (difflib) where names are not an exact match and therefor this value is a continuous number."
   ]
  },
  {
   "cell_type": "code",
   "execution_count": 6,
   "metadata": {},
   "outputs": [
    {
     "data": {
      "text/html": [
       "<div>\n",
       "<style scoped>\n",
       "    .dataframe tbody tr th:only-of-type {\n",
       "        vertical-align: middle;\n",
       "    }\n",
       "\n",
       "    .dataframe tbody tr th {\n",
       "        vertical-align: top;\n",
       "    }\n",
       "\n",
       "    .dataframe thead th {\n",
       "        text-align: right;\n",
       "    }\n",
       "</style>\n",
       "<table border=\"1\" class=\"dataframe\">\n",
       "  <thead>\n",
       "    <tr style=\"text-align: right;\">\n",
       "      <th></th>\n",
       "      <th>GNIS_NAME</th>\n",
       "      <th>LENGTHKM</th>\n",
       "      <th>PERMANENT_IDENTIFIER</th>\n",
       "      <th>REACHCODE</th>\n",
       "      <th>COMID</th>\n",
       "      <th>closest_node_m</th>\n",
       "      <th>snap_m</th>\n",
       "      <th>snap_xy</th>\n",
       "      <th>closest</th>\n",
       "      <th>name_check</th>\n",
       "      <th>name_check_txt</th>\n",
       "    </tr>\n",
       "  </thead>\n",
       "  <tbody>\n",
       "    <tr>\n",
       "      <td>0</td>\n",
       "      <td>Red Cedar River</td>\n",
       "      <td>8.421667</td>\n",
       "      <td>12242482</td>\n",
       "      <td>04050004000126</td>\n",
       "      <td>12242482</td>\n",
       "      <td>1987.423043</td>\n",
       "      <td>44.332661</td>\n",
       "      <td>POINT (-84.50243779700608 42.72877868601643)</td>\n",
       "      <td>1</td>\n",
       "      <td>0.882353</td>\n",
       "      <td>most likely name match based on fuzzy match</td>\n",
       "    </tr>\n",
       "    <tr>\n",
       "      <td>1</td>\n",
       "      <td>None</td>\n",
       "      <td>1.983866</td>\n",
       "      <td>12241744</td>\n",
       "      <td>04050004000960</td>\n",
       "      <td>12241744</td>\n",
       "      <td>1987.423043</td>\n",
       "      <td>1837.753163</td>\n",
       "      <td>POINT (-84.50737777864552 42.71232846672766)</td>\n",
       "      <td>2</td>\n",
       "      <td>0.000000</td>\n",
       "      <td>no name match, water name and or gnis name not...</td>\n",
       "    </tr>\n",
       "    <tr>\n",
       "      <td>2</td>\n",
       "      <td>Red Cedar River</td>\n",
       "      <td>0.790011</td>\n",
       "      <td>12241734</td>\n",
       "      <td>04050004000125</td>\n",
       "      <td>12241734</td>\n",
       "      <td>1987.423043</td>\n",
       "      <td>1987.423043</td>\n",
       "      <td>POINT (-84.52110377914246 42.71680106720647)</td>\n",
       "      <td>3</td>\n",
       "      <td>0.882353</td>\n",
       "      <td>most likely name match based on fuzzy match</td>\n",
       "    </tr>\n",
       "  </tbody>\n",
       "</table>\n",
       "</div>"
      ],
      "text/plain": [
       "         GNIS_NAME  LENGTHKM PERMANENT_IDENTIFIER       REACHCODE     COMID  \\\n",
       "0  Red Cedar River  8.421667             12242482  04050004000126  12242482   \n",
       "1             None  1.983866             12241744  04050004000960  12241744   \n",
       "2  Red Cedar River  0.790011             12241734  04050004000125  12241734   \n",
       "\n",
       "   closest_node_m       snap_m                                       snap_xy  \\\n",
       "0     1987.423043    44.332661  POINT (-84.50243779700608 42.72877868601643)   \n",
       "1     1987.423043  1837.753163  POINT (-84.50737777864552 42.71232846672766)   \n",
       "2     1987.423043  1987.423043  POINT (-84.52110377914246 42.71680106720647)   \n",
       "\n",
       "   closest  name_check                                     name_check_txt  \n",
       "0        1    0.882353        most likely name match based on fuzzy match  \n",
       "1        2    0.000000  no name match, water name and or gnis name not...  \n",
       "2        3    0.882353        most likely name match based on fuzzy match  "
      ]
     },
     "execution_count": 6,
     "metadata": {},
     "output_type": "execute_result"
    }
   ],
   "source": [
    "#builds query against EPA web services\n",
    "hydrolink.build_nhd_query(service='network_flow')\n",
    "\n",
    "#executes query and measures distances from point to each line and their nodes\n",
    "hydrolink.find_closest_reaches(n=6)\n",
    "\n",
    "#stream name match for each of the reaches\n",
    "hydrolink.water_name_match()\n",
    "\n",
    "#show result, there were only 3 reaches within 2000 meters of this point\n",
    "hydrolink.reach_df"
   ]
  },
  {
   "cell_type": "markdown",
   "metadata": {},
   "source": [
    "In the next cell, a selection of one reach is made using the following criteria.  This reach selection identifies the \"best reach\".  In other words, of the reaches returned in the query this step selects the reach most likely associated with the input data point.\n",
    " \n",
    "        * First check for exact stream name matches (GNIS_NAME == stream_name)\n",
    "           * If number of reaches with exact name match equals 1 that is the reach to recommend\n",
    "           * If number of reaches with exact name match > 1 take the one that is closest to the point\n",
    "           * If more than one reach has exact name match and are equally close to the point grab the first but note that                               multiple reaches so that we can recommend taking a closer look\n",
    "        * If no reaches have an exact name match and the user supplied name does not refer to a tributary then check for fuzzy name matches over 0.75 cutoff.  \n",
    "            * If number of reaches with fuzzy name match equals 1 that is the reach to recommend\n",
    "            * If number of reaches with fuzzy name match > 1 take the one that is closest to the point\n",
    "                * If more than one reach has fuzzy name match and are equally close to the point grab the first one but note                           that multiple reaches so that we can recommend taking a closer look\n",
    "        * If fuzzy match < 0.75 just take closest reach.\n",
    "        "
   ]
  },
  {
   "cell_type": "code",
   "execution_count": 7,
   "metadata": {},
   "outputs": [
    {
     "data": {
      "text/plain": [
       "{'input_id': 1,\n",
       " 'water_name': 'The Red Cedar River',\n",
       " 'water_name_ref': 'the red cedar river',\n",
       " 'GNIS_NAME': 'Red Cedar River',\n",
       " 'LENGTHKM': 8.42166733289811,\n",
       " 'PERMANENT_IDENTIFIER': '12242482',\n",
       " 'COMID': 12242482,\n",
       " 'REACHCODE': '04050004000126',\n",
       " 'snap_xy': <shapely.geometry.point.Point at 0x178d67c1dc8>,\n",
       " 'snap_m': 44.332660593521666,\n",
       " 'closest_node_m': 1987.4230429025345,\n",
       " 'closest': 1,\n",
       " 'name_check': 0.8823529411764706,\n",
       " 'mult_reach_ct': 1,\n",
       " 'name_check_txt': 'most likely name match based on fuzzy match',\n",
       " 'mr_meas': None,\n",
       " 'message': ''}"
      ]
     },
     "execution_count": 7,
     "metadata": {},
     "output_type": "execute_result"
    }
   ],
   "source": [
    "#Return reach most likely associated with point\n",
    "hydrolink.select_best_reach()\n",
    "\n",
    "#show results\n",
    "hydrolink.best_reach"
   ]
  },
  {
   "cell_type": "markdown",
   "metadata": {},
   "source": [
    "The following cell finalizes point addressing by retrieving the measure along the \"best reach\" where the point should be associated.  This method takes a striaght line snap approach.  The measure value is measured as a percent of the way \"up\" a reach(0-100) where 0 is at the most downstream node of the reach and 100 is the most upstream node of the reach. Note that all reachcodes start at 0 and end at 100, but there may be multiple flowlines that make up a single reach."
   ]
  },
  {
   "cell_type": "code",
   "execution_count": 8,
   "metadata": {},
   "outputs": [
    {
     "data": {
      "text/plain": [
       "30.44817"
      ]
     },
     "execution_count": 8,
     "metadata": {},
     "output_type": "execute_result"
    }
   ],
   "source": [
    "hydrolink.get_hl_measure()\n",
    "\n",
    "hydrolink.best_reach['mr_meas']"
   ]
  },
  {
   "cell_type": "markdown",
   "metadata": {},
   "source": [
    "There are a few options for writing data to CSV files.  Both are set up with intentions of batch hydrolinking (multiple points -> see batch example notebook). \n",
    "\n",
    "Both methods accept an optional parameter for 'outfile_name'. \n",
    "    * default for write_reach_options() is 'mr_hydrolink_output.csv'\n",
    "    * default for write_best() is 'mr__hydrolink_output.csv'"
   ]
  },
  {
   "cell_type": "code",
   "execution_count": 9,
   "metadata": {},
   "outputs": [],
   "source": [
    "#Creates a CSV file of all reach options.  This can be used for QAQC procedures.\n",
    "hydrolink.write_reach_options()\n",
    "\n",
    "#Creates a CSV file with one reach per point.  \n",
    "hydrolink.write_best()"
   ]
  },
  {
   "cell_type": "code",
   "execution_count": 10,
   "metadata": {},
   "outputs": [
    {
     "data": {
      "text/html": [
       "<div>\n",
       "<style scoped>\n",
       "    .dataframe tbody tr th:only-of-type {\n",
       "        vertical-align: middle;\n",
       "    }\n",
       "\n",
       "    .dataframe tbody tr th {\n",
       "        vertical-align: top;\n",
       "    }\n",
       "\n",
       "    .dataframe thead th {\n",
       "        text-align: right;\n",
       "    }\n",
       "</style>\n",
       "<table border=\"1\" class=\"dataframe\">\n",
       "  <thead>\n",
       "    <tr style=\"text-align: right;\">\n",
       "      <th></th>\n",
       "      <th>input_id</th>\n",
       "      <th>water_name</th>\n",
       "      <th>water_name_ref</th>\n",
       "      <th>GNIS_NAME</th>\n",
       "      <th>LENGTHKM</th>\n",
       "      <th>PERMANENT_IDENTIFIER</th>\n",
       "      <th>COMID</th>\n",
       "      <th>REACHCODE</th>\n",
       "      <th>snap_xy</th>\n",
       "      <th>snap_m</th>\n",
       "      <th>closest_node_m</th>\n",
       "      <th>closest</th>\n",
       "      <th>name_check</th>\n",
       "      <th>mult_reach_ct</th>\n",
       "      <th>name_check_txt</th>\n",
       "      <th>mr_meas</th>\n",
       "      <th>message</th>\n",
       "    </tr>\n",
       "  </thead>\n",
       "  <tbody>\n",
       "    <tr>\n",
       "      <td>0</td>\n",
       "      <td>1</td>\n",
       "      <td>The Red Cedar River</td>\n",
       "      <td>the red cedar river</td>\n",
       "      <td>Red Cedar River</td>\n",
       "      <td>8.421667</td>\n",
       "      <td>12242482</td>\n",
       "      <td>12242482</td>\n",
       "      <td>04050004000126</td>\n",
       "      <td>POINT (-84.50243779700608 42.72877868601643)</td>\n",
       "      <td>44.332661</td>\n",
       "      <td>1987.423043</td>\n",
       "      <td>1</td>\n",
       "      <td>0.882353</td>\n",
       "      <td>1</td>\n",
       "      <td>most likely name match based on fuzzy match</td>\n",
       "      <td>30.44817</td>\n",
       "      <td></td>\n",
       "    </tr>\n",
       "  </tbody>\n",
       "</table>\n",
       "</div>"
      ],
      "text/plain": [
       "   input_id           water_name       water_name_ref        GNIS_NAME  \\\n",
       "0         1  The Red Cedar River  the red cedar river  Red Cedar River   \n",
       "\n",
       "   LENGTHKM PERMANENT_IDENTIFIER     COMID       REACHCODE  \\\n",
       "0  8.421667             12242482  12242482  04050004000126   \n",
       "\n",
       "                                        snap_xy     snap_m  closest_node_m  \\\n",
       "0  POINT (-84.50243779700608 42.72877868601643)  44.332661     1987.423043   \n",
       "\n",
       "   closest  name_check  mult_reach_ct  \\\n",
       "0        1    0.882353              1   \n",
       "\n",
       "                                name_check_txt   mr_meas message  \n",
       "0  most likely name match based on fuzzy match  30.44817          "
      ]
     },
     "execution_count": 10,
     "metadata": {},
     "output_type": "execute_result"
    }
   ],
   "source": [
    "#View final data for best reach\n",
    "import pandas as pd\n",
    "pd.DataFrame([hydrolink.best_reach])"
   ]
  },
  {
   "cell_type": "code",
   "execution_count": null,
   "metadata": {},
   "outputs": [],
   "source": []
  }
 ],
 "metadata": {
  "kernelspec": {
   "display_name": "Python 3",
   "language": "python",
   "name": "python3"
  },
  "language_info": {
   "codemirror_mode": {
    "name": "ipython",
    "version": 3
   },
   "file_extension": ".py",
   "mimetype": "text/x-python",
   "name": "python",
   "nbconvert_exporter": "python",
   "pygments_lexer": "ipython3",
   "version": "3.7.4"
  }
 },
 "nbformat": 4,
 "nbformat_minor": 2
}
