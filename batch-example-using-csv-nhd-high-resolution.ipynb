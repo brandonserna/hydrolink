{
 "cells": [
  {
   "cell_type": "markdown",
   "metadata": {},
   "source": [
    "This example shows how to use hydrolinking methods to address a multiple points to the NHD High Resolution.\n"
   ]
  },
  {
   "cell_type": "markdown",
   "metadata": {},
   "source": [
    "##### First import packages and set functions allowing for import of data via CSV\n",
    "\n",
    "get_user_input() requests field names from user and standardizes these field names\n",
    "import_file() uses user input to load file with point data\n",
    "\n",
    "Note we use a pandas dataframe to help manage and loop through data but this can be done using many other methods."
   ]
  },
  {
   "cell_type": "code",
   "execution_count": 1,
   "metadata": {},
   "outputs": [],
   "source": [
    "#Import packages needed for code to run\n",
    "from hydrolink import nhd_hr\n",
    "import warnings; warnings.simplefilter('ignore')\n",
    "import geopandas as gpd\n",
    "import pandas as pd\n",
    "\n",
    "def get_user_input():\n",
    "    #User inputs variables needed for code to run\n",
    "    input_file = input(\"Enter file name, including extension (only accepts .csv and .shp): \")\n",
    "    latitude_field = input(\"Enter field name for latitude, note this is case sensitive: \")\n",
    "    longitude_field = input(\"Enter field name for longitude, note this is case sensitive: \")\n",
    "    stream_name_field = input(\"Enter field name for stream name, if none type None, note this is case sensitive: \")\n",
    "    identifier_field = input(\"Enter field name for identifier, note this is case sensitive: \")\n",
    "    crs = input(\"Enter crs number, recommended to use NAD83 represented by 4269: \")\n",
    "    in_data = {\"file\":input_file,\"lat\":latitude_field,\"lon\":longitude_field,\"stream_name\":stream_name_field,\"id\":identifier_field,\"crs\":crs}\n",
    "    return in_data\n",
    "\n",
    "\n",
    "def import_file(in_data):\n",
    "    '''\n",
    "    Description: Imports CSV or SHP files into a Pandas dataframe. Makes sure that all fields \n",
    "    are in the file and converts the file into a dataframe with a standard set of field names.\n",
    "    \n",
    "    Input\n",
    "    ------------\n",
    "    in_data: dictionary with values for file, lat, lon, stream_name, id\n",
    "    \n",
    "    Output\n",
    "    ------------\n",
    "    Pandas Dataframe\n",
    "    '''\n",
    "    #Check to see if the file is a CSV file\n",
    "    if in_data['file'].endswith('.csv'):\n",
    "        print ('reading csv file' +'\\n')\n",
    "        try:\n",
    "            df = pd.read_csv(in_data['file'],encoding='iso-8859-1')\n",
    "        except KeyError:\n",
    "            print ('file did not properly import, verify file name and rerun')\n",
    "            #It would be nice here to reask for inputFileName and then restart at try statement\n",
    "    \n",
    "    #If input file is not a CSV check to see if it is a shapefile\n",
    "    elif in_data['file'].endswith('.shp'):\n",
    "        print('\\n' + 'reading shapefile' + '\\n')\n",
    "        try:\n",
    "            df = gpd.GeoDataFrame.from_file(in_data['file'])\n",
    "        except KeyError:\n",
    "            print ('file did not properly import, verify file name and rerun')\n",
    "            #It would be nice here to reask for inputFileName and then restart at try statement\n",
    "    \n",
    "    #If input file is not a CSV or shapefile tell the user that the file type is not excepted\n",
    "    else:\n",
    "        print('File type not currently accepted. Please try .csv or .shp')\n",
    "    \n",
    "    \n",
    "\n",
    "    if in_data['lat'] in df and in_data['lon'] in df and in_data['id'] in df:\n",
    "        if in_data['stream_name'] is not None and in_data['stream_name'] in df:\n",
    "            df = df[[in_data['id'], in_data['lat'], in_data['lon'], in_data['stream_name']]].copy()\n",
    "            df = df.rename(columns={in_data['id']: 'id', in_data['lat']: 'lat', in_data['lon']: 'lon', in_data['stream_name']: 'stream'})\n",
    "            return df\n",
    "        else:\n",
    "            df = df[[in_data['id'], in_data['lat'], in_data['lon']]].copy()\n",
    "            df = df.rename(columns={in_data['id']: 'id', in_data['lat']: 'lat', in_data['lon']: 'lon'})\n",
    "            df['stream'] = None\n",
    "            return df\n",
    "    else: \n",
    "        print ('verify field names and rerun')"
   ]
  },
  {
   "cell_type": "code",
   "execution_count": 2,
   "metadata": {},
   "outputs": [
    {
     "name": "stdout",
     "output_type": "stream",
     "text": [
      "Enter file name, including extension (only accepts .csv and .shp): test-data/test.csv\n",
      "Enter field name for latitude, note this is case sensitive: y\n",
      "Enter field name for longitude, note this is case sensitive: x\n",
      "Enter field name for stream name, if none type None, note this is case sensitive: stream\n",
      "Enter field name for identifier, note this is case sensitive: id\n",
      "Enter crs number, recommended to use NAD83 represented by 4269: 4269\n"
     ]
    }
   ],
   "source": [
    "input_data = get_user_input()"
   ]
  },
  {
   "cell_type": "markdown",
   "metadata": {},
   "source": [
    "##### Next loop through each point, hydrolinking each"
   ]
  },
  {
   "cell_type": "code",
   "execution_count": 3,
   "metadata": {},
   "outputs": [
    {
     "name": "stdout",
     "output_type": "stream",
     "text": [
      "reading csv file\n",
      "\n"
     ]
    }
   ],
   "source": [
    "df = import_file(input_data)   \n",
    "input_crs= 4269\n",
    "buffer_m= 1000\n",
    "\n",
    "for row in df.itertuples():\n",
    "    #Define variables based on row,field values\n",
    "    input_lat = float(row.lat)\n",
    "    input_lon = float(row.lon)\n",
    "    input_identifier = row.id\n",
    "    stream_name = str(row.stream)\n",
    "\n",
    "    #initiate a Python object\n",
    "    hydrolink = nhd_hr.HighResPoint(input_identifier, input_lat, input_lon, water_name=stream_name, input_crs=input_crs, buffer_m=buffer_m)\n",
    "\n",
    "    #builds query against USGS hem web services\n",
    "    hydrolink.build_nhd_query(service='hem_flow')\n",
    "\n",
    "    #executes query and measures distances from point to each line and their nodes\n",
    "    hydrolink.find_closest_reaches(n=6)\n",
    "\n",
    "    #stream name match for each of the reaches\n",
    "    hydrolink.water_name_match()\n",
    "    \n",
    "    #Return reach most likely associated with point\n",
    "    hydrolink.select_best_reach()\n",
    "\n",
    "    #get address of hydrolinked point\n",
    "    hydrolink.get_hl_measure()\n",
    "\n",
    "    #Creates a CSV file of all reach options.  This can be used for QAQC procedures.\n",
    "    hydrolink.write_reach_options(outfile_name='test-data/test_hr_hydrolink_reach_output.csv')\n",
    "\n",
    "    #Creates a CSV file with one reach per point.  \n",
    "    hydrolink.write_best(outfile_name='test-data/test_hr_hydrolink_output.csv')"
   ]
  },
  {
   "cell_type": "code",
   "execution_count": null,
   "metadata": {},
   "outputs": [],
   "source": []
  }
 ],
 "metadata": {
  "kernelspec": {
   "display_name": "Python 3",
   "language": "python",
   "name": "python3"
  },
  "language_info": {
   "codemirror_mode": {
    "name": "ipython",
    "version": 3
   },
   "file_extension": ".py",
   "mimetype": "text/x-python",
   "name": "python",
   "nbconvert_exporter": "python",
   "pygments_lexer": "ipython3",
   "version": "3.7.4"
  }
 },
 "nbformat": 4,
 "nbformat_minor": 2
}
